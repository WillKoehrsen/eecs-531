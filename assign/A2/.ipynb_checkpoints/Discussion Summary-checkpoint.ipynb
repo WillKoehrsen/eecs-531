{
 "cells": [
  {
   "cell_type": "markdown",
   "metadata": {},
   "source": [
    "# February 28 Discussion Summary\n",
    "\n",
    "## wjk68\n",
    "\n",
    "The assignment was given to us the day before the discussion summary so no members of the group had the chance to start. Therefore, we had no questios to discuss because you generally start to think of questions as you try to complete the assignment. Instead od having a discussion, we used the time in class to start on the assignment. I like the idea of discussions, but they are only valuable if everyone comes prepared with questions, and because we did not have access to the assigment, no one had any questions to discuss."
   ]
  },
  {
   "cell_type": "code",
   "execution_count": null,
   "metadata": {},
   "outputs": [],
   "source": []
  }
 ],
 "metadata": {
  "kernelspec": {
   "display_name": "Python 3",
   "language": "python",
   "name": "python3"
  },
  "language_info": {
   "codemirror_mode": {
    "name": "ipython",
    "version": 3
   },
   "file_extension": ".py",
   "mimetype": "text/x-python",
   "name": "python",
   "nbconvert_exporter": "python",
   "pygments_lexer": "ipython3",
   "version": "3.6.4"
  }
 },
 "nbformat": 4,
 "nbformat_minor": 2
}
