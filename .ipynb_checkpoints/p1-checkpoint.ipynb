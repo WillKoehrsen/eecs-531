{
 "cells": [
  {
   "cell_type": "code",
   "execution_count": 1,
   "metadata": {},
   "outputs": [],
   "source": [
    "import numpy as np\n",
    "import pandas as pd\n",
    "\n",
    "import scipy\n",
    "\n",
    "import matplotlib.pyplot as plt\n",
    "%matplotlib inline"
   ]
  },
  {
   "cell_type": "code",
   "execution_count": 51,
   "metadata": {},
   "outputs": [],
   "source": [
    "def dct_transform(matrix, m=16, n=16):    \n",
    "    basis = np.zeros((m,n))\n",
    "    \n",
    "    for i in range(m):\n",
    "        for j in range(n):\n",
    "            \n",
    "            if i == 0:\n",
    "                ci = 1 / np.sqrt(m)\n",
    "            else:\n",
    "                ci = np.sqrt(2/m)\n",
    "\n",
    "            if j == 0:\n",
    "                cj = 1 / np.sqrt(n)\n",
    "            else:\n",
    "                cj = np.sqrt(2/n)\n",
    "            \n",
    "            s = 0\n",
    "            for k in range(m):\n",
    "                for l in range(n):\n",
    "                    dct1 = (matrix[k][l] * np.cos((2 * k + 1) * i * np.pi / (2 * m)) * \n",
    "                            np.cos((2 * l + 1) * j * np.pi / (2 * n)))\n",
    "\n",
    "                    s += dct1\n",
    "                    \n",
    "            basis[i][j] = ci * cj * s\n",
    "            \n",
    "    return basis\n",
    "    "
   ]
  },
  {
   "cell_type": "code",
   "execution_count": 52,
   "metadata": {},
   "outputs": [],
   "source": [
    "a = dct_transform(matrix=np.ones((16, 16)))"
   ]
  },
  {
   "cell_type": "code",
   "execution_count": 53,
   "metadata": {},
   "outputs": [
    {
     "data": {
      "text/plain": [
       "array([[ 1.60000000e+01,  4.90653893e-17, -1.23644781e-15,\n",
       "         1.87429787e-15, -6.37850061e-16,  3.76822190e-15,\n",
       "        -4.39625888e-15, -9.32242397e-16, -3.14018492e-16,\n",
       "         7.52663072e-15,  6.28036983e-16,  5.03410895e-15,\n",
       "        -5.00957625e-15,  2.20303598e-15, -3.61611919e-15,\n",
       "         8.46255303e-15],\n",
       "       [ 7.26167762e-16, -4.16333634e-17,  2.22044605e-16,\n",
       "        -1.38777878e-17, -8.32667268e-17, -9.71445147e-17,\n",
       "        -1.38777878e-17, -2.77555756e-17,  0.00000000e+00,\n",
       "        -4.16333634e-17, -2.77555756e-17, -2.77555756e-17,\n",
       "         1.38777878e-17,  6.93889390e-18,  1.38777878e-17,\n",
       "        -1.21430643e-17],\n",
       "       [-1.96261557e-17,  5.55111512e-17,  1.24900090e-16,\n",
       "         1.38777878e-17,  2.77555756e-17,  6.93889390e-17,\n",
       "        -1.38777878e-17,  4.16333634e-17, -1.38777878e-17,\n",
       "        -5.55111512e-17,  4.16333634e-17,  0.00000000e+00,\n",
       "         1.38777878e-17,  3.46944695e-17, -1.38777878e-17,\n",
       "        -2.60208521e-17],\n",
       "       [ 5.90747288e-15, -4.16333634e-17,  3.88578059e-16,\n",
       "         1.52655666e-16, -4.16333634e-17, -1.38777878e-17,\n",
       "         0.00000000e+00,  4.16333634e-17, -1.38777878e-17,\n",
       "         1.38777878e-17,  0.00000000e+00,  2.77555756e-17,\n",
       "        -1.38777878e-17,  6.24500451e-17, -3.12250226e-17,\n",
       "        -2.60208521e-17],\n",
       "       [-7.65420074e-16, -1.66533454e-16,  1.80411242e-16,\n",
       "         1.38777878e-17, -1.38777878e-17, -5.55111512e-17,\n",
       "        -4.16333634e-17,  2.77555756e-17,  2.77555756e-17,\n",
       "         0.00000000e+00, -2.77555756e-17,  1.38777878e-17,\n",
       "        -2.77555756e-17,  1.38777878e-17,  1.73472348e-17,\n",
       "         3.64291930e-17],\n",
       "       [-4.12149270e-16,  5.55111512e-17,  6.93889390e-17,\n",
       "        -5.55111512e-17,  0.00000000e+00,  2.77555756e-17,\n",
       "        -1.38777878e-17, -5.55111512e-17, -1.38777878e-17,\n",
       "        -8.32667268e-17, -2.08166817e-17,  2.08166817e-17,\n",
       "         1.38777878e-17,  2.08166817e-17, -1.04083409e-17,\n",
       "         4.85722573e-17],\n",
       "       [-2.04112020e-15,  8.32667268e-17,  0.00000000e+00,\n",
       "        -1.38777878e-17, -6.93889390e-17, -2.77555756e-17,\n",
       "        -2.77555756e-17,  2.77555756e-17,  2.77555756e-17,\n",
       "        -4.16333634e-17, -6.93889390e-18, -1.38777878e-17,\n",
       "        -6.93889390e-18,  6.59194921e-17,  1.73472348e-17,\n",
       "        -3.46944695e-17],\n",
       "       [-2.68878334e-15, -3.60822483e-16,  9.71445147e-17,\n",
       "         1.38777878e-17, -1.38777878e-17, -6.93889390e-17,\n",
       "        -4.16333634e-17, -1.38777878e-17,  0.00000000e+00,\n",
       "        -6.93889390e-18, -1.38777878e-17, -2.77555756e-17,\n",
       "         4.85722573e-17, -1.38777878e-17,  1.04083409e-17,\n",
       "        -3.81639165e-17],\n",
       "       [-6.08410828e-16,  1.24900090e-16,  0.00000000e+00,\n",
       "         5.55111512e-17,  5.55111512e-17, -2.77555756e-17,\n",
       "         0.00000000e+00,  4.16333634e-17, -2.08166817e-17,\n",
       "         1.38777878e-17, -5.55111512e-17, -1.38777878e-17,\n",
       "        -6.93889390e-18, -2.77555756e-17,  6.93889390e-18,\n",
       "        -1.73472348e-17],\n",
       "       [ 7.67382689e-15, -1.11022302e-16, -4.16333634e-17,\n",
       "         4.16333634e-17, -5.55111512e-17, -2.77555756e-17,\n",
       "        -2.77555756e-17,  2.08166817e-17,  0.00000000e+00,\n",
       "        -2.08166817e-17, -3.46944695e-17,  4.85722573e-17,\n",
       "         3.46944695e-17,  6.93889390e-18, -3.12250226e-17,\n",
       "        -3.81639165e-17],\n",
       "       [ 8.63550852e-16,  6.93889390e-17,  8.32667268e-17,\n",
       "         5.55111512e-17, -9.71445147e-17, -4.16333634e-17,\n",
       "        -4.85722573e-17, -5.55111512e-17, -5.55111512e-17,\n",
       "        -6.93889390e-18, -3.46944695e-17, -5.55111512e-17,\n",
       "        -1.04083409e-17,  1.04083409e-17, -5.37764278e-17,\n",
       "        -1.99493200e-17],\n",
       "       [ 5.65233285e-15,  3.12250226e-16,  9.02056208e-17,\n",
       "        -6.24500451e-17, -3.46944695e-17,  7.63278329e-17,\n",
       "         3.46944695e-17, -4.16333634e-17, -2.08166817e-17,\n",
       "         6.24500451e-17, -5.55111512e-17, -5.20417043e-17,\n",
       "         0.00000000e+00, -3.46944695e-17,  4.85722573e-17,\n",
       "        -1.12757026e-17],\n",
       "       [-5.30887513e-15,  6.93889390e-18,  6.24500451e-17,\n",
       "         1.38777878e-17, -6.93889390e-17,  6.24500451e-17,\n",
       "         0.00000000e+00,  4.85722573e-17, -2.08166817e-17,\n",
       "         4.85722573e-17, -7.97972799e-17,  3.46944695e-18,\n",
       "        -6.93889390e-17, -2.25514052e-17,  8.50014503e-17,\n",
       "        -1.30104261e-17],\n",
       "       [ 2.85560566e-15, -2.91433544e-16, -9.02056208e-17,\n",
       "         1.59594560e-16,  2.77555756e-17,  2.77555756e-17,\n",
       "         9.36750677e-17,  2.08166817e-17, -2.08166817e-17,\n",
       "         3.46944695e-18, -2.42861287e-17,  0.00000000e+00,\n",
       "         1.73472348e-18, -7.11236625e-17, -8.15320034e-17,\n",
       "         2.55871713e-17],\n",
       "       [-3.10583914e-15, -9.36750677e-17,  1.45716772e-16,\n",
       "        -1.73472348e-16,  3.46944695e-17,  1.14491749e-16,\n",
       "        -3.46944695e-18,  1.73472348e-17, -3.46944695e-18,\n",
       "        -4.16333634e-17, -8.84708973e-17,  1.04083409e-16,\n",
       "         9.71445147e-17, -6.07153217e-17, -2.51534904e-17,\n",
       "         1.30104261e-18],\n",
       "       [ 8.71155988e-15,  4.33680869e-17, -6.41847686e-17,\n",
       "        -7.45931095e-17, -8.84708973e-17,  2.60208521e-17,\n",
       "        -8.67361738e-17, -5.20417043e-17, -8.67361738e-18,\n",
       "        -6.93889390e-17, -4.77048956e-17,  7.80625564e-18,\n",
       "        -2.60208521e-18, -5.63785130e-18, -3.90312782e-18,\n",
       "         3.05745013e-17]])"
      ]
     },
     "execution_count": 53,
     "metadata": {},
     "output_type": "execute_result"
    }
   ],
   "source": [
    "a"
   ]
  },
  {
   "cell_type": "code",
   "execution_count": 54,
   "metadata": {},
   "outputs": [
    {
     "data": {
      "text/plain": [
       "<matplotlib.image.AxesImage at 0x2284e6da2b0>"
      ]
     },
     "execution_count": 54,
     "metadata": {},
     "output_type": "execute_result"
    },
    {
     "data": {
      "image/png": "[encoded data removed]",
      "text/plain": [
       "<matplotlib.figure.Figure at 0x2284e40add8>"
      ]
     },
     "metadata": {},
     "output_type": "display_data"
    }
   ],
   "source": [
    "plt.imshow(a)"
   ]
  },
  {
   "cell_type": "code",
   "execution_count": null,
   "metadata": {},
   "outputs": [],
   "source": []
  }
 ],
 "metadata": {
  "kernelspec": {
   "display_name": "Python 3",
   "language": "python",
   "name": "python3"
  },
  "language_info": {
   "codemirror_mode": {
    "name": "ipython",
    "version": 3
   },
   "file_extension": ".py",
   "mimetype": "text/x-python",
   "name": "python",
   "nbconvert_exporter": "python",
   "pygments_lexer": "ipython3",
   "version": "3.6.4"
  }
 },
 "nbformat": 4,
 "nbformat_minor": 2
}
